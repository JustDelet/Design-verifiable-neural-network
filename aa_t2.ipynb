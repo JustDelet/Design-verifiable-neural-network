{
  "nbformat": 4,
  "nbformat_minor": 0,
  "metadata": {
    "colab": {
      "provenance": []
    },
    "kernelspec": {
      "name": "python3",
      "display_name": "Python 3"
    },
    "language_info": {
      "name": "python"
    },
    "accelerator": "GPU",
    "gpuClass": "standard"
  },
  "cells": [
    {
      "cell_type": "code",
      "execution_count": 14,
      "metadata": {
        "id": "x91J6HghthW_",
        "colab": {
          "base_uri": "https://localhost:8080/"
        },
        "outputId": "7ca07fb1-e898-4d38-f9b6-bc062d33d29b"
      },
      "outputs": [
        {
          "output_type": "stream",
          "name": "stdout",
          "text": [
            "Looking in indexes: https://pypi.org/simple, https://us-python.pkg.dev/colab-wheels/public/simple/\n",
            "Requirement already satisfied: pulp in /usr/local/lib/python3.8/dist-packages (2.7.0)\n"
          ]
        }
      ],
      "source": [
        "!pip install pulp\n",
        "import pulp as pl\n",
        "import torch\n",
        "import torch.nn as nn\n",
        "import pandas as pd\n",
        "import numpy as np\n",
        "import random\n",
        "import tqdm\n",
        "from tqdm import tqdm"
      ]
    },
    {
      "cell_type": "code",
      "source": [
        "def generate_abcd():\n",
        "  a = random.random()\n",
        "  b = random.random()\n",
        "  c = random.random()\n",
        "  d = random.random()\n",
        "  return a,b,c,d"
      ],
      "metadata": {
        "id": "r2fahQ8uujqS"
      },
      "execution_count": 15,
      "outputs": []
    },
    {
      "cell_type": "markdown",
      "source": [
        "notice $max\\left\\{x,c\\right\\} \\equiv max\\left\\{x-c,0\\right\\} + c$, so a MLP with 1 hidden layer can generate function like $h(a,b,c) = t_1max\\left\\{w_{11}a+w_{12}b+w_{13}c + m_{1},0\\right\\} + n_{1} + t_2max\\left\\{w_{21}a+w_{22}b+w_{23}c + m_{2},0\\right\\} + n_{2}+t_3max\\left\\{w_{31}a+w_{32}b+w_{33}c + m_{3},0\\right\\} + n_{3} + t_4 = t_1max\\left\\{w_{11}a+w_{12}b+w_{13}c + m_{1}+p_1,p_1\\right\\} +t_2max\\left\\{w_{21}a+w_{22}b+w_{23}c + m_{2}+p_2,p2\\right\\} + t_3max\\left\\{w_{31}a+w_{32}b+w_{33}c + m_{3}+p_3,p3\\right\\} + n$\n",
        "\n",
        "(Here $n = n_1+n_2+n_3+t_4-t_1p_1-t_2p_2-t_3p_3$)\n",
        "\n",
        "It looks like the format of 3-agent situation."
      ],
      "metadata": {
        "id": "Xqi2t91dpqba"
      }
    },
    {
      "cell_type": "code",
      "source": [
        "H_function = nn.Sequential(\n",
        "        nn.Linear(3, 3),\n",
        "        nn.ReLU(),\n",
        "        nn.Linear(3, 1)\n",
        "        )"
      ],
      "metadata": {
        "id": "RwpoyXlxy9rp"
      },
      "execution_count": 16,
      "outputs": []
    },
    {
      "cell_type": "markdown",
      "source": [
        "Try to optmize the ratio $\\frac{h(a,b,c)+h(a,b,d)+h(a,c,d)+h(b,c,d)}{max\\{ a+b+c+d,1\\}}$, make it close to 3.\n",
        "To make sure the ratio has a lower bound 3, if $ratio < 3$, we should do gradient ascent with a larger learning rate, else we should do gradient descent with a smaller learning rate."
      ],
      "metadata": {
        "id": "_DSuQY4xtILM"
      }
    },
    {
      "cell_type": "code",
      "source": [
        "nepoch = 3"
      ],
      "metadata": {
        "id": "qGA1EwZucdRW"
      },
      "execution_count": 45,
      "outputs": []
    },
    {
      "cell_type": "code",
      "source": [
        "#generate 3000 (a,b,c,d) as training data \n",
        "a = [0]*3000\n",
        "b = [0]*3000\n",
        "c = [0]*3000\n",
        "d = [0]*3000\n",
        "for i in range(3000):\n",
        "  a[i], b[i], c[i], d[i] = generate_abcd()"
      ],
      "metadata": {
        "id": "qOepvlqLukf8"
      },
      "execution_count": 42,
      "outputs": []
    },
    {
      "cell_type": "code",
      "source": [
        "def verify_lower_bound(w1,b1,w2,b2):\n",
        "  model = pl.LpProblem(name=\"Verify-lower-bound\", sense=pl.LpMinimize)\n",
        "  a = pl.LpVariable(name='a',lowBound=0, upBound=1)\n",
        "  b = pl.LpVariable(name='b',lowBound=0, upBound=1)\n",
        "  c = pl.LpVariable(name='c',lowBound=0, upBound=1)\n",
        "  d = pl.LpVariable(name='d',lowBound=0, upBound=1)\n",
        "  # max{a+b+c+d,1}\n",
        "  x0 = pl.LpVariable(name='x0')\n",
        "  x0_ = pl.LpVariable(name='x0_',cat='Binary')\n",
        "  model += (x0 >= 1, \"constrain_01\")\n",
        "  model += (x0 >= a+b+c+d, \"constrain_02\")\n",
        "  model += (x0 <= a+b+c+d+1000*x0_, \"constrain_03\")\n",
        "  model += (x0 <= 1+1000*(1-x0_), \"constrain_04\")\n",
        "  #h(a,b,c)\n",
        "  x1 = pl.LpVariable(name='x1')\n",
        "  x1_ = pl.LpVariable(name='x1_',cat='Binary')\n",
        "  model += (x1 >= w1[0][0]*a + w1[0][1]*b + w1[0][2]*c + b1[0], \"constrain_abc11\")\n",
        "  model += (x1 >= 0, \"constain_abc12\")\n",
        "  model += (x1 <= w1[0][0]*a + w1[0][1]*b + w1[0][2]*c + b1[0] + 1000*x1_, \"constrain_abc13\")\n",
        "  model += (x1 <= 1000*(1-x1_), \"constrain_abc14\")\n",
        "\n",
        "  x2 = pl.LpVariable(name='x2')\n",
        "  x2_ = pl.LpVariable(name='x2_',cat='Binary')\n",
        "  model += (x2 >= w1[1][0]*a + w1[1][1]*b + w1[1][2]*c + b1[1], \"constrain_abc21\")\n",
        "  model += (x2 >= 0, \"constain_abc22\")\n",
        "  model += (x2 <= w1[1][0]*a + w1[1][1]*b + w1[1][2]*c + b1[1] + 1000*x2_, \"constrain_abc23\")\n",
        "  model += (x2 <= 1000*(1-x2_), \"constrain_abc24\")\n",
        "\n",
        "  x3 = pl.LpVariable(name='x3')\n",
        "  x3_ = pl.LpVariable(name='x3_',cat='Binary')\n",
        "  model += (x3 >= w1[2][0]*a + w1[2][1]*b + w1[2][2]*c + b1[2], \"constrain_abc31\")\n",
        "  model += (x3 >= 0, \"constain_abc32\")\n",
        "  model += (x3 <= w1[2][0]*a + w1[2][1]*b + w1[2][2]*c + b1[2] + 1000*x3_, \"constrain_abc33\")\n",
        "  model += (x3 <= 1000*(1-x3_), \"constrain_abc34\")\n",
        "\n",
        "  #h(a,b,d)\n",
        "  y1 = pl.LpVariable(name='y1')\n",
        "  y1_ = pl.LpVariable(name='y1_',cat='Binary')\n",
        "  model += (y1 >= w1[0][0]*a + w1[0][1]*b + w1[0][2]*d + b1[0], \"constrain_abd11\")\n",
        "  model += (y1 >= 0, \"constain_abd12\")\n",
        "  model += (y1 <= w1[0][0]*a + w1[0][1]*b + w1[0][2]*d + b1[0] + 1000*y1_, \"constrain_abd13\")\n",
        "  model += (y1 <= 1000*(1-y1_), \"constrain_abd14\")\n",
        "\n",
        "  y2 = pl.LpVariable(name='y2')\n",
        "  y2_ = pl.LpVariable(name='y2_',cat='Binary')\n",
        "  model += (y2 >= w1[1][0]*a + w1[1][1]*b + w1[1][2]*d + b1[1], \"constrain_abd21\")\n",
        "  model += (y2 >= 0, \"constain_abd22\")\n",
        "  model += (y2 <= w1[1][0]*a + w1[1][1]*b + w1[1][2]*d + b1[1] + 1000*y2_, \"constrain_abd23\")\n",
        "  model += (y2 <= 1000*(1-y2_), \"constrain_abd24\")\n",
        "\n",
        "  y3 = pl.LpVariable(name='y3')\n",
        "  y3_ = pl.LpVariable(name='y3_',cat='Binary')\n",
        "  model += (y3 >= w1[2][0]*a + w1[2][1]*b + w1[2][2]*d + b1[2], \"constrain_abd31\")\n",
        "  model += (y3 >= 0, \"constain_abd32\")\n",
        "  model += (y3 <= w1[2][0]*a + w1[2][1]*b + w1[2][2]*d + b1[2] + 1000*y3_, \"constrain_abd33\")\n",
        "  model += (y3 <= 1000*(1-y3_), \"constrain_abd34\")\n",
        "\n",
        "  #h(a,c,d)\n",
        "  z1 = pl.LpVariable(name='z1')\n",
        "  z1_ = pl.LpVariable(name='z1_',cat='Binary')\n",
        "  model += (z1 >= w1[0][0]*a + w1[0][1]*c + w1[0][2]*d + b1[0], \"constrain_acd11\")\n",
        "  model += (z1 >= 0, \"constain_acd12\")\n",
        "  model += (z1 <= w1[0][0]*a + w1[0][1]*c + w1[0][2]*d + b1[0] + 1000*z1_, \"constrain_acd13\")\n",
        "  model += (z1 <= 1000*(1-z1_), \"constrain_acd14\")\n",
        "\n",
        "  z2 = pl.LpVariable(name='z2')\n",
        "  z2_ = pl.LpVariable(name='z2_',cat='Binary')\n",
        "  model += (z2 >= w1[1][0]*a + w1[1][1]*c + w1[1][2]*d + b1[1], \"constrain_acd21\")\n",
        "  model += (z2 >= 0, \"constain_acd22\")\n",
        "  model += (z2 <= w1[1][0]*a + w1[1][1]*c + w1[1][2]*d + b1[1] + 1000*z2_, \"constrain_acd23\")\n",
        "  model += (z2 <= 1000*(1-z2_), \"constrain_acd24\")\n",
        "\n",
        "  z3 = pl.LpVariable(name='z3')\n",
        "  z3_ = pl.LpVariable(name='z3_',cat='Binary')\n",
        "  model += (z3 >= w1[2][0]*a + w1[2][1]*c + w1[2][2]*d + b1[2], \"constrain_acd31\")\n",
        "  model += (z3 >= 0, \"constain_acd32\")\n",
        "  model += (z3 <= w1[2][0]*a + w1[2][1]*c + w1[2][2]*d + b1[2] + 1000*z3_, \"constrain_acd33\")\n",
        "  model += (z3 <= 1000*(1-z3_), \"constrain_acd34\")\n",
        "\n",
        "  #h(b,c,d)\n",
        "  q1 = pl.LpVariable(name='q1')\n",
        "  q1_ = pl.LpVariable(name='q1_',cat='Binary')\n",
        "  model += (q1 >= w1[0][0]*b + w1[0][1]*c + w1[0][2]*d + b1[0], \"constrain_bcd11\")\n",
        "  model += (q1 >= 0, \"constain_bcd12\")\n",
        "  model += (q1 <= w1[0][0]*b + w1[0][1]*c + w1[0][2]*d + b1[0] + 1000*q1_, \"constrain_bcd13\")\n",
        "  model += (q1 <= 1000*(1-q1_), \"constrain_bcd14\")\n",
        "\n",
        "  q2 = pl.LpVariable(name='q2')\n",
        "  q2_ = pl.LpVariable(name='q2_',cat='Binary')\n",
        "  model += (q2 >= w1[1][0]*b + w1[1][1]*c + w1[1][2]*d + b1[1], \"constrain_bcd21\")\n",
        "  model += (q2 >= 0, \"constain_bcd22\")\n",
        "  model += (q2 <= w1[1][0]*b + w1[1][1]*c + w1[1][2]*d + b1[1] + 1000*q2_, \"constrain_bcd23\")\n",
        "  model += (q2 <= 1000*(1-q2_), \"constrain_bcd24\")\n",
        "\n",
        "  q3 = pl.LpVariable(name='q3')\n",
        "  q3_ = pl.LpVariable(name='q3_',cat='Binary')\n",
        "  model += (q3 >= w1[2][0]*b + w1[2][1]*c + w1[2][2]*d + b1[2], \"constrain_bcd31\")\n",
        "  model += (q3 >= 0, \"constain_bcd32\")\n",
        "  model += (q3 <= w1[2][0]*b + w1[2][1]*c + w1[2][2]*d + b1[2] + 1000*q3_, \"constrain_bcd33\")\n",
        "  model += (q3 <= 1000*(1-q3_), \"constrain_bcd34\")\n",
        "\n",
        "  \n",
        "  model += w2[0][0]*x1+w2[0][1]*x2+w2[0][2]*x3+b2[0]+w2[0][0]*y1+w2[0][1]*y2+w2[0][2]*y3+b2[0]+w2[0][0]*z1+w2[0][1]*z2+w2[0][2]*z3+b2[0]+w2[0][0]*q1+w2[0][1]*q2+w2[0][2]*q3+b2[0]-3*x0\n",
        "\n",
        "  status = model.solve()\n",
        "\n",
        "  print(f\"status: {model.status}, {pl.LpStatus[model.status]}\")\n",
        "  print(f\"objective: {model.objective.value()}\")\n",
        "  for var in model.variables():\n",
        "    print(f\"{var.name}: {var.value()}\")\n",
        "  for name, constraint in model.constraints.items():\n",
        "    print(f\"{name}: {constraint.value()}\")\n",
        "  \n",
        "  return\n"
      ],
      "metadata": {
        "id": "iDViJlTTjaWS"
      },
      "execution_count": 30,
      "outputs": []
    },
    {
      "cell_type": "code",
      "source": [
        "device = torch.device('cuda' if torch.cuda.is_available() else 'cpu')\n",
        "model = H_function\n",
        "model = model.to(device)\n",
        "model.train()\n",
        "for j in range(nepoch):\n",
        "  loop = tqdm(range(3000))\n",
        "  for i in loop:\n",
        "    x1 = torch.tensor([a[j],b[j],c[j]]).to(device)\n",
        "    x2 = torch.tensor([a[j],b[j],d[j]]).to(device)\n",
        "    x3 = torch.tensor([a[j],c[j],d[j]]).to(device)\n",
        "    x4 = torch.tensor([b[j],c[j],d[j]]).to(device)\n",
        "    ratio = (model(x1)+model(x2)+model(x3)+model(x4))/torch.tensor([max(a[j]+b[j]+c[j]+d[j],1)]).to(device)\n",
        "    if ratio < 3:\n",
        "      optimizer = torch.optim.SGD(model.parameters(), lr=1e-2, maximize = True)\n",
        "    else:\n",
        "      optimizer = torch.optim.SGD(model.parameters(), lr=1e-5, maximize = False, weight_decay=1e-4)\n",
        "    optimizer.zero_grad()\n",
        "    ratio.backward()\n",
        "    optimizer.step()\n",
        "    loop.set_description(f'Epoch [{j+1}/{nepoch}]')\n",
        "    loop.set_postfix(ratio=ratio.item())\n",
        "  w_layer0 = model.state_dict()[\"0.weight\"].cpu().numpy()\n",
        "  b_layer0 = model.state_dict()[\"0.bias\"].cpu().numpy()\n",
        "  w_layer2 = model.state_dict()[\"2.weight\"].cpu().numpy()\n",
        "  b_layer2 = model.state_dict()[\"2.bias\"].cpu().numpy()"
      ],
      "metadata": {
        "id": "_CUyYoHlQpSc",
        "colab": {
          "base_uri": "https://localhost:8080/"
        },
        "outputId": "3408a600-e776-4931-cf9c-b15b095636b5"
      },
      "execution_count": 46,
      "outputs": [
        {
          "output_type": "stream",
          "name": "stderr",
          "text": [
            "Epoch [1/3]: 100%|██████████| 3000/3000 [00:23<00:00, 126.79it/s, ratio=3.07]\n",
            "Epoch [2/3]: 100%|██████████| 3000/3000 [00:23<00:00, 125.09it/s, ratio=3.14]\n",
            "Epoch [3/3]: 100%|██████████| 3000/3000 [00:23<00:00, 125.57it/s, ratio=3.24]\n"
          ]
        }
      ]
    },
    {
      "cell_type": "code",
      "source": [
        "print(w_layer0)\n",
        "print(b_layer0)\n",
        "print(w_layer2)\n",
        "print(b_layer2)\n",
        "verify_lower_bound(w_layer0,b_layer0,w_layer2,b_layer2)"
      ],
      "metadata": {
        "colab": {
          "base_uri": "https://localhost:8080/"
        },
        "id": "5l9Gwaj_7iuv",
        "outputId": "79f0fa84-b756-4d00-e31b-3edf5ad0bead"
      },
      "execution_count": 47,
      "outputs": [
        {
          "output_type": "stream",
          "name": "stdout",
          "text": [
            "[[ 0.18850572  0.918914    0.6833277 ]\n",
            " [ 0.03078114 -0.02010398  0.10714717]\n",
            " [-0.44438985  0.21058655 -0.02328267]]\n",
            "[ 0.09928603  0.3685159  -0.14550172]\n",
            "[[ 1.1184103  -0.11729623 -0.01210997]]\n",
            "[0.4567645]\n",
            "status: 1, Optimal\n",
            "objective: -1.945793884546445\n",
            "a: 1.0\n",
            "b: 1.0\n",
            "c: 1.0\n",
            "d: 1.0\n",
            "q1: 1.8900334\n",
            "q1_: 0.0\n",
            "q2: 0.48634024\n",
            "q2_: 0.0\n",
            "q3: 0.0\n",
            "q3_: 1.0\n",
            "x0: 4.0\n",
            "x0_: 0.0\n",
            "x1: 1.8900334\n",
            "x1_: 0.0\n",
            "x2: 0.48634024\n",
            "x2_: 0.0\n",
            "x3: 0.0\n",
            "x3_: 1.0\n",
            "y1: 1.8900334\n",
            "y1_: 0.0\n",
            "y2: 0.48634024\n",
            "y2_: 0.0\n",
            "y3: 0.0\n",
            "y3_: 1.0\n",
            "z1: 1.8900334\n",
            "z1_: 0.0\n",
            "z2: 0.48634024\n",
            "z2_: 0.0\n",
            "z3: 0.0\n",
            "z3_: 1.0\n",
            "constrain_01: 3.0\n",
            "constrain_02: 0.0\n",
            "constrain_03: 0.0\n",
            "constrain_04: -997.0\n",
            "constrain_abc11: -4.625234595323491e-08\n",
            "constain_abc12: 1.8900334\n",
            "constrain_abc13: -4.625234595323491e-08\n",
            "constrain_abc14: -998.1099666\n",
            "constrain_abc21: -3.3693409173807254e-09\n",
            "constain_abc22: 0.48634024\n",
            "constrain_abc23: -3.3693409173807254e-09\n",
            "constrain_abc24: -999.51365976\n",
            "constrain_abc31: 0.40258769132196903\n",
            "constain_abc32: 0.0\n",
            "constrain_abc33: -999.597412308678\n",
            "constrain_abc34: 0.0\n",
            "constrain_abd11: -4.625234595323491e-08\n",
            "constain_abd12: 1.8900334\n",
            "constrain_abd13: -4.625234595323491e-08\n",
            "constrain_abd14: -998.1099666\n",
            "constrain_abd21: -3.3693409173807254e-09\n",
            "constain_abd22: 0.48634024\n",
            "constrain_abd23: -3.3693409173807254e-09\n",
            "constrain_abd24: -999.51365976\n",
            "constrain_abd31: 0.40258769132196903\n",
            "constain_abd32: 0.0\n",
            "constrain_abd33: -999.597412308678\n",
            "constrain_abd34: 0.0\n",
            "constrain_acd11: -4.625234595323491e-08\n",
            "constain_acd12: 1.8900334\n",
            "constrain_acd13: -4.625234595323491e-08\n",
            "constrain_acd14: -998.1099666\n",
            "constrain_acd21: -3.3693409173807254e-09\n",
            "constain_acd22: 0.48634024\n",
            "constrain_acd23: -3.3693409173807254e-09\n",
            "constrain_acd24: -999.51365976\n",
            "constrain_acd31: 0.40258769132196903\n",
            "constain_acd32: 0.0\n",
            "constrain_acd33: -999.597412308678\n",
            "constrain_acd34: 0.0\n",
            "constrain_bcd11: -4.625234595323491e-08\n",
            "constain_bcd12: 1.8900334\n",
            "constrain_bcd13: -4.625234595323491e-08\n",
            "constrain_bcd14: -998.1099666\n",
            "constrain_bcd21: -3.3693409173807254e-09\n",
            "constain_bcd22: 0.48634024\n",
            "constrain_bcd23: -3.3693409173807254e-09\n",
            "constrain_bcd24: -999.51365976\n",
            "constrain_bcd31: 0.40258769132196903\n",
            "constain_bcd32: 0.0\n",
            "constrain_bcd33: -999.597412308678\n",
            "constrain_bcd34: 0.0\n"
          ]
        }
      ]
    }
  ]
}